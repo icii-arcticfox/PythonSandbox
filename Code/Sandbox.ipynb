{
  "cells": [
    {
      "cell_type": "code",
      "execution_count": null,
      "id": "68f69423",
      "metadata": {},
      "outputs": [],
      "source": [
        "# Leave for imports"
      ]
    },
    {
      "cell_type": "markdown",
      "id": "7df6e449",
      "metadata": {},
      "source": [
        "This sandbox is a small building block on the last one. The main point is to show how we more frequently use autos, just one after another together in the same cell.  We'll also show you a few more image processing autos that are chain together."
      ]
    },
    {
      "cell_type": "markdown",
      "id": "69706a23",
      "metadata": {},
      "source": [
        "# Correcting and Enhancing an Image"
      ]
    },
    {
      "cell_type": "markdown",
      "id": "287dc421",
      "metadata": {},
      "source": [
        "Many images need to be edited before sharing, publishing, etc. In this sandbox, we have a photo of the Philadelphia skyline that needs to be touched up. Here we go!"
      ]
    },
    {
      "cell_type": "markdown",
      "id": "20770ce4",
      "metadata": {},
      "source": [
        "First, let's just take a look at the image to see what needs to be done. "
      ]
    },
    {
      "cell_type": "code",
      "execution_count": null,
      "id": "49c1f87b",
      "metadata": {},
      "outputs": [],
      "source": [
        "#[Data Philadelphia.jpg]",
        "",
        "#[Visualize]"
      ]
    },
    {
      "cell_type": "markdown",
      "id": "307d8ec9",
      "metadata": {},
      "source": [
        "Well, it's easy to see that the image is askew and doesn't really.... pop! To fix the skew, let's rotate it just a bit and crop it to remove missing rotated pixels. Then, let's give it more color! We'll brighten it a tad and add saturation to the colors. We can do these steps quickly with the automations below. Take a look!"
      ]
    },
    {
      "cell_type": "code",
      "execution_count": null,
      "id": "43279c7e",
      "metadata": {},
      "outputs": [],
      "source": [
        "#[Rotate 3.3]",
        "#[Crop 20%]",
        "#[Brighten 10%]",
        "#[Saturate 30%]",
        "",
        "#[Visualize]"
      ]
    },
    {
      "cell_type": "markdown",
      "id": "468d5296",
      "metadata": {},
      "source": [
        "Ang again, it's easy to save the result."
      ]
    },
    {
      "cell_type": "code",
      "execution_count": null,
      "id": "2c918d6d",
      "metadata": {},
      "outputs": [],
      "source": [
        "#[SaveImage]"
      ]
    },
    {
      "cell_type": "markdown",
      "id": "24c18251",
      "metadata": {},
      "source": [
        "Alright! One more image processing example to introduce using automations within functions!"
      ]
    },
    {
      "cell_type": "code",
      "execution_count": null,
      "id": "2764270f",
      "metadata": {},
      "outputs": [],
      "source": [
        "",
        "",
        ""
      ]
    }
  ],
  "metadata": {
    "kernelspec": {
      "display_name": "Python 3",
      "language": "python",
      "name": "python3"
    },
    "language_info": {
      "codemirror_mode": {
        "name": "ipython",
        "version": 3
      },
      "file_extension": ".py",
      "mimetype": "text/x-python",
      "name": "python",
      "nbconvert_exporter": "python",
      "pygments_lexer": "ipython3",
      "version": "3.10.8"
    },
    "orig_nbformat": 4
  },
  "nbformat": 4,
  "nbformat_minor": 5
}