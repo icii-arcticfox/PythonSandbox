{
  "cells": [
    {
      "cell_type": "code",
      "execution_count": null,
      "id": "68f69423",
      "metadata": {},
      "outputs": [],
      "source": [
        "# Leave for imports"
      ]
    },
    {
      "cell_type": "markdown",
      "id": "7df6e449",
      "metadata": {},
      "source": [
        "Hope you're excited for the next Arctic Fox step! In this sandbox, we'll show you Automations working together and chaining one after another. Also, we'll start referring to Automations as autos, auto singular, for short. "
      ]
    },
    {
      "cell_type": "markdown",
      "id": "69706a23",
      "metadata": {},
      "source": [
        "# Chained Automations"
      ]
    },
    {
      "cell_type": "markdown",
      "id": "287dc421",
      "metadata": {},
      "source": [
        "To illustrate, we'll use a simple image processing example. We'll show the image after each step using the Visualize auto. In our scenario, we have an image we want to use as a background for slides, but the image is too bright and too busy. Let's take a look!"
      ]
    },
    {
      "cell_type": "markdown",
      "id": "20770ce4",
      "metadata": {},
      "source": [
        "First, let's load the image with the Data auto. The Data auto can be used with a wide variety of data / file formats, for now, we'll stick with images. The Data auto will also serve as the first step in a chain of autos. "
      ]
    },
    {
      "cell_type": "code",
      "execution_count": null,
      "id": "49c1f87b",
      "metadata": {},
      "outputs": [],
      "source": [
        "#[Data Waves.jpg]\n",
        "\n",
        "#[Visualize]"
      ]
    },
    {
      "cell_type": "markdown",
      "id": "307d8ec9",
      "metadata": {},
      "source": [
        "As you can see, the image is pretty bright and busy. Let's make the image darker with the Darken auto. You'll notice that Darken connects to the chain and uses the variable from the Data auto. Additionally, Visualize will see that Darken is now the most recent auto in the chain and will show Darken's output, instead of Data's.    "
      ]
    },
    {
      "cell_type": "code",
      "execution_count": null,
      "id": "43279c7e",
      "metadata": {},
      "outputs": [],
      "source": [
        "#[Darken 20%]\n",
        "\n",
        "#[Visualize]"
      ]
    },
    {
      "cell_type": "markdown",
      "id": "468d5296",
      "metadata": {},
      "source": [
        "That's a little better, but the image is still too busy. Let's use the Blur auto to, as you guessed, blur the image. Again, Blur will connect to the chain and use the variable from Darken instead of Data."
      ]
    },
    {
      "cell_type": "code",
      "execution_count": null,
      "id": "65047936",
      "metadata": {},
      "outputs": [],
      "source": [
        "#[Blur 15]\n",
        "\n",
        "#[Visualize]"
      ]
    },
    {
      "cell_type": "markdown",
      "id": "1694cb20",
      "metadata": {},
      "source": [
        "That looks like a good slide background! It's got a bit happening, but not too much! Now, let's save the result with the SaveImage auto. Again, this auto will connect to the chain and use the most recent auto in the chain. "
      ]
    },
    {
      "cell_type": "code",
      "execution_count": null,
      "id": "2c918d6d",
      "metadata": {},
      "outputs": [],
      "source": [
        "#[SaveImage]"
      ]
    },
    {
      "cell_type": "markdown",
      "id": "2766ad62",
      "metadata": {},
      "source": [
        "There you have it! Let's go to the next sandbox which will build on this image processing example!"
      ]
    },
    {
      "cell_type": "code",
      "execution_count": null,
      "id": "2764270f",
      "metadata": {},
      "outputs": [],
      "source": [
        "\n",
        "\n",
        "\n"
      ]
    }
  ],
  "metadata": {
    "kernelspec": {
      "display_name": "Python 3",
      "language": "python",
      "name": "python3"
    },
    "language_info": {
      "codemirror_mode": {
        "name": "ipython",
        "version": 3
      },
      "file_extension": ".py",
      "mimetype": "text/x-python",
      "name": "python",
      "nbconvert_exporter": "python",
      "pygments_lexer": "ipython3",
      "version": "3.10.8"
    },
    "orig_nbformat": 4
  },
  "nbformat": 4,
  "nbformat_minor": 5
}
