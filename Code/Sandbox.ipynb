{
  "cells": [
    {
      "cell_type": "code",
      "execution_count": null,
      "id": "68f69423",
      "metadata": {},
      "outputs": [],
      "source": [
        "# Leave for imports"
      ]
    },
    {
      "cell_type": "markdown",
      "id": "7df6e449",
      "metadata": {},
      "source": [
        "Alright, last image processing sandbox! The focus of this automation is two fold. Focus 1, automations can be placed in functions. Focus 2, automations can create new cells and add code to those cells."
      ]
    },
    {
      "cell_type": "markdown",
      "id": "69706a23",
      "metadata": {},
      "source": [
        "# Automations in Functions\n"
      ]
    },
    {
      "cell_type": "markdown",
      "id": "287dc421",
      "metadata": {},
      "source": [
        "Okay, this time around, let's take a pretty picture of Mount Everest, and make it look awesome! First, check out the image. "
      ]
    },
    {
      "cell_type": "code",
      "execution_count": null,
      "id": "49c1f87b",
      "metadata": {},
      "outputs": [],
      "source": [
        "#[Data MountEverest.jpg]",
        "",
        "#[Visualize]"
      ]
    },
    {
      "cell_type": "markdown",
      "id": "307d8ec9",
      "metadata": {},
      "source": [
        "Yes, it looks cool, it's the tallest mountain in the world! But, it could look cooler... Once you've Automated, as you likely have, you'll see that additional cells have been added. For the desired effect, we wanted to adjust the highlights and shadows of the image, but there wasn't an easy way to do that. So, we needed to include some functions. Therefore, the Highlights and Shadows automations add their needed functions in the added cells. \n",
        "\n",
        "So, all in all, in the ProcessEverest function, we load the image, bump up the highlights, darken the shadows, and add some contrast, saturation, and sharpening. Run the cells to check out the resutling image!"
      ]
    },
    {
      "cell_type": "code",
      "execution_count": null,
      "id": "43279c7e",
      "metadata": {},
      "outputs": [],
      "source": [
        "def ProcessEverest():",
        "    #[Data MountEverest.jpg]",
        "    #[Highlights --amount 40% --point 75%]",
        "    #[Shadows --amount 40% --point 70%]",
        "    #[Contrast 20%]",
        "    #[Saturation 20%]",
        "    #[Sharpen 20%]",
        "    #[!GrayScale]",
        "    #[Visualize]"
      ]
    },
    {
      "cell_type": "code",
      "execution_count": null,
      "id": "2323d442",
      "metadata": {},
      "outputs": [],
      "source": [
        "ProcessEverest()"
      ]
    },
    {
      "cell_type": "markdown",
      "id": "468d5296",
      "metadata": {},
      "source": [
        "Okay, we think that looks awesome!!!\n",
        "\n",
        "As a bonus, you can see that GrayScale is being ignored. Remove the the ! before GrayScale and re-Automate. Check out the difference!\n",
        "\n",
        "That's it for our image processing examples, check out the next sandbox!"
      ]
    },
    {
      "cell_type": "code",
      "execution_count": null,
      "id": "2c918d6d",
      "metadata": {},
      "outputs": [],
      "source": [
        "",
        "",
        ""
      ]
    }
  ],
  "metadata": {
    "kernelspec": {
      "display_name": "Python 3",
      "language": "python",
      "name": "python3"
    },
    "language_info": {
      "codemirror_mode": {
        "name": "ipython",
        "version": 3
      },
      "file_extension": ".py",
      "mimetype": "text/x-python",
      "name": "python",
      "nbconvert_exporter": "python",
      "pygments_lexer": "ipython3",
      "version": "3.10.8"
    },
    "orig_nbformat": 4
  },
  "nbformat": 4,
  "nbformat_minor": 5
}