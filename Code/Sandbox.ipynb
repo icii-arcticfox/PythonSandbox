{
  "cells": [
    {
      "cell_type": "code",
      "execution_count": null,
      "id": "68f69423",
      "metadata": {},
      "outputs": [],
      "source": [
        "# Leave for imports"
      ]
    },
    {
      "cell_type": "markdown",
      "id": "615f3e4c",
      "metadata": {},
      "source": [
        "<span style=\"color:red\">**IMPORTANT**</span>\n",
        "\n",
        "Run the following !pip3 cells to install scikit-plot and tensorflow which are needed for this sandbox. Run these cells before automating, since automating will run the import cell above."
      ]
    },
    {
      "cell_type": "code",
      "execution_count": null,
      "id": "28b5cbac",
      "metadata": {},
      "outputs": [],
      "source": [
        "!pip3 install scikit-plot"
      ]
    },
    {
      "cell_type": "code",
      "execution_count": null,
      "id": "5fd3374c",
      "metadata": {},
      "outputs": [],
      "source": [
        "!pip3 install tensorflow"
      ]
    },
    {
      "cell_type": "markdown",
      "id": "7df6e449",
      "metadata": {},
      "source": [
        "We're a little briefer in the sandbox since it builds on the Neural Network Classifer sandbox."
      ]
    },
    {
      "cell_type": "markdown",
      "id": "69706a23",
      "metadata": {},
      "source": [
        "# Neural Network Regression\n"
      ]
    },
    {
      "cell_type": "markdown",
      "id": "287dc421",
      "metadata": {},
      "source": [
        "This time, we will build from the Neural Network Classifier sandbox. We want you to see that you don't have to rework the notebook into a regression model, as opposed to a classifer, you only need to specify what you want to predict. Arctic fox will know that the data being predicting matches a regression model. It will apply this difference through out the code:\n",
        "- the predicted column won't be one-hot encoded\n",
        "- the final layer of the model won't be a softmax\n",
        "- accuracy won't be included in the compilation or visualization\n",
        "- the confusion matrix is replaced with a graph of the actual vs predicted \n",
        "\n",
        "And others. Check out the sand box and, as always, feel free to make changes. "
      ]
    },
    {
      "cell_type": "markdown",
      "id": "307d8ec9",
      "metadata": {},
      "source": [
        "Again, the wine column lacks headers, predicting column 7 will predict the Flavanoids in each wine. What are those? We don't really know... But we do know its a regression column! "
      ]
    },
    {
      "cell_type": "code",
      "execution_count": null,
      "id": "43279c7e",
      "metadata": {},
      "outputs": [],
      "source": [
        "#[Data wine.csv --predict 7]"
      ]
    },
    {
      "cell_type": "markdown",
      "id": "59170990",
      "metadata": {},
      "source": [
        "Play around with different size networks. When we were testing the wine dataset, a smaller network seemed to work better. "
      ]
    },
    {
      "cell_type": "code",
      "execution_count": null,
      "id": "408e0de0",
      "metadata": {},
      "outputs": [],
      "source": [
        "#[NN --denseLayers 8 --denseStart 24 --denseEnd 8 --dropOutRatio 1:4]"
      ]
    },
    {
      "cell_type": "markdown",
      "id": "6a674a3e",
      "metadata": {},
      "source": [
        "Don't be afraid to train quite a bit. We ended up training for around 1500 total epochs. "
      ]
    },
    {
      "cell_type": "code",
      "execution_count": null,
      "id": "7b1c6f5b",
      "metadata": {},
      "outputs": [],
      "source": [
        "\n",
        "#[Train --epochs 100]"
      ]
    },
    {
      "cell_type": "markdown",
      "id": "3b0e44f7",
      "metadata": {},
      "source": [
        "View the loss and predictions. With the --predictions item, Arctic Fox will graph the predictions and labels so you can visually see how close the two are. "
      ]
    },
    {
      "cell_type": "code",
      "execution_count": null,
      "id": "67f3d008",
      "metadata": {},
      "outputs": [],
      "source": [
        "#[Visualize --loss --predictions]"
      ]
    },
    {
      "cell_type": "markdown",
      "id": "468d5296",
      "metadata": {},
      "source": [
        "There you have it! You can train the network more to improve its performance, try changing the model archiecture, etc. And then, check out the next sandbox!"
      ]
    },
    {
      "cell_type": "code",
      "execution_count": null,
      "id": "2c918d6d",
      "metadata": {},
      "outputs": [],
      "source": []
    }
  ],
  "metadata": {
    "kernelspec": {
      "display_name": "Python 3",
      "language": "python",
      "name": "python3"
    },
    "language_info": {
      "codemirror_mode": {
        "name": "ipython",
        "version": 3
      },
      "file_extension": ".py",
      "mimetype": "text/x-python",
      "name": "python",
      "nbconvert_exporter": "python",
      "pygments_lexer": "ipython3",
      "version": "3.10.8"
    },
    "orig_nbformat": 4
  },
  "nbformat": 4,
  "nbformat_minor": 5
}
