{
  "cells": [
    {
      "cell_type": "code",
      "execution_count": null,
      "id": "68f69423",
      "metadata": {},
      "outputs": [],
      "source": [
        "import math"
      ]
    },
    {
      "cell_type": "markdown",
      "id": "7df6e449",
      "metadata": {},
      "source": [
        "Code is littered boilerplate, some common, some unique to projects. Let's automate that!"
      ]
    },
    {
      "cell_type": "markdown",
      "id": "69706a23",
      "metadata": {},
      "source": [
        "# Automating **Your** Boilerplate"
      ]
    },
    {
      "cell_type": "markdown",
      "id": "307d8ec9",
      "metadata": {},
      "source": [
        "The more we've written code, the more we've written the same lines over, and over, and over. A lot of times you can combine similar code into a function, and sometimes, you can't. In this sandbox we'll she you how we use Arctic Fox to automate some of our custom boilerplate code. "
      ]
    },
    {
      "cell_type": "markdown",
      "id": "1705ddc8",
      "metadata": {},
      "source": [
        "### Evolving Boilerplate Examples"
      ]
    },
    {
      "cell_type": "markdown",
      "id": "3a29d501",
      "metadata": {},
      "source": [
        "Not all boilerplate is apparent from the start. Sometimes, we've written the same function start 4 times and then go, ugh, each new function starts similarly. To illustrate this, we'll walk through writing simple functions and their evolution. \n",
        "\n",
        "What functions will we use for the example? Calculating the area and perimeter of shapes, wow, original!...\n",
        "\n",
        "For the example, we will get our data from a dictionary passed into the function. **Each example builds on the last.**\n",
        "\n",
        "**Also**, the majority of this notebook is a simple example to make a point for the automtions at the end :). "
      ]
    },
    {
      "cell_type": "markdown",
      "id": "6f2127a3",
      "metadata": {},
      "source": [
        "### Take 1\n",
        "First, here's what are input data may look like. \n",
        "\n",
        "Then, we write our function. First time is very straight forward, no big deal. "
      ]
    },
    {
      "cell_type": "code",
      "execution_count": null,
      "id": "516d63e3",
      "metadata": {},
      "outputs": [],
      "source": [
        "# example data",
        "shapeData = {",
        "    'width': 45,",
        "    'height': 58,",
        "    'shape': 'rectangle'",
        "}"
      ]
    },
    {
      "cell_type": "code",
      "execution_count": null,
      "id": "31b1ac97",
      "metadata": {},
      "outputs": [],
      "source": [
        "def rectangle_area(dictionary):",
        "    width = dictionary['width']",
        "    height = dictionary['height']",
        "",
        "    return width * height"
      ]
    },
    {
      "cell_type": "markdown",
      "id": "6cad655c",
      "metadata": {},
      "source": [
        "### What If Missing?\n",
        "Next, you're like, ah, what if these are missing from the dictionary, so you quickly add those conditions"
      ]
    },
    {
      "cell_type": "code",
      "execution_count": null,
      "id": "4bc14d92",
      "metadata": {},
      "outputs": [],
      "source": [
        "def rectangle_area(dictionary):",
        "",
        "    if 'width' in dictionary:",
        "        width = dictionary['width']",
        "    else:",
        "        raise Exception('Could not find width in dictionary')",
        "",
        "    if 'width' in dictionary:",
        "        height = dictionary['height']",
        "    else:",
        "        raise Exception('Could not find width in dictionary')",
        "",
        "    return width * height"
      ]
    },
    {
      "cell_type": "markdown",
      "id": "4bfbcd99",
      "metadata": {},
      "source": [
        "### Put Check in Function\n",
        "Next, you're thinking, that's ugly and hard to read, I'll put the error handling in a function"
      ]
    },
    {
      "cell_type": "code",
      "execution_count": null,
      "id": "4f890ae0",
      "metadata": {},
      "outputs": [],
      "source": [
        "def if_contains(dictionary, value):",
        "    if value in dictionary:",
        "        return dictionary[value]",
        "    else:",
        "        raise Exception('Could not find ' + value + ' in dictionary')",
        "",
        "",
        "def rectangle_area(dictionary):",
        "",
        "    width = if_contains(dictionary, 'width')",
        "    height = if_contains(dictionary, 'height')",
        "",
        "    return width * height"
      ]
    },
    {
      "cell_type": "markdown",
      "id": "50ea809d",
      "metadata": {},
      "source": [
        "### Now You Need Perimeter\n",
        "Then, you realize you also need a function to compute the perimeter, so you add that"
      ]
    },
    {
      "cell_type": "code",
      "execution_count": null,
      "id": "3c4cf67a",
      "metadata": {},
      "outputs": [],
      "source": [
        "def if_contains(dictionary, value):",
        "    if value in dictionary:",
        "        return dictionary[value]",
        "    else:",
        "        raise Exception('Could not find ' + value + ' in dictionary')",
        "",
        "",
        "def rectangle_area(dictionary):",
        "",
        "    width = if_contains(dictionary, 'width')",
        "    height = if_contains(dictionary, 'height')",
        "",
        "    return width * height",
        "",
        "def rectangle_perimeter(dictionary):",
        "",
        "    width = if_contains(dictionary, 'width')",
        "    height = if_contains(dictionary, 'height')",
        "",
        "    return 2 * (width + height)"
      ]
    },
    {
      "cell_type": "markdown",
      "id": "5e35f9b9",
      "metadata": {},
      "source": [
        "### Reduce Duplicate Code\n",
        "You see that you've duplicated the code to create width and height, so let's trim that up"
      ]
    },
    {
      "cell_type": "code",
      "execution_count": null,
      "id": "193727ba",
      "metadata": {},
      "outputs": [],
      "source": [
        "def if_contains(dictionary, value):",
        "    if value in dictionary:",
        "        return dictionary[value]",
        "    else:",
        "        raise Exception('Could not find ' + value + ' in dictionary')",
        "",
        "def get_variables(dictionary):",
        "    return if_contains(dictionary, 'width'), if_contains(dictionary, 'height')",
        "",
        "def rectangle_area(dictionary):",
        "",
        "    width, height = get_variables(dictionary)",
        "",
        "    return width * height",
        "",
        "def rectangle_perimeter(dictionary):",
        "",
        "    width, height = get_variables(dictionary)",
        "",
        "    return 2 * (width + height)"
      ]
    },
    {
      "cell_type": "markdown",
      "id": "54162432",
      "metadata": {},
      "source": [
        "### Add Circle\n",
        "But then, you have to add in functionality for a circle, which only has a radius! Ahhh, duplicate everything!"
      ]
    },
    {
      "cell_type": "code",
      "execution_count": null,
      "id": "3d665c9d",
      "metadata": {},
      "outputs": [],
      "source": [
        "def if_contains(dictionary, value):",
        "    if value in dictionary:",
        "        return dictionary[value]",
        "    else:",
        "        raise Exception('Could not find ' + value + ' in dictionary')",
        "",
        "##### Retangle",
        "def get_rectangle_variables(dictionary):",
        "    return if_contains(dictionary, 'width'), if_contains(dictionary, 'height')",
        "",
        "def rectangle_area(dictionary):",
        "",
        "    width, height = get_rectangle_variables(dictionary)",
        "",
        "    return width * height",
        "",
        "def rectangle_perimeter(dictionary):",
        "",
        "    width, height = get_rectangle_variables(dictionary)",
        "",
        "    return 2 * (width + height)",
        "",
        "",
        "##### Circle",
        "def get_circle_variables(dictionary):",
        "    return if_contains(dictionary, 'raidus')",
        "",
        "def circle_area(dictionary):",
        "",
        "    radius = get_circle_variables(dictionary)",
        "",
        "    return math.pi * (radius**2)",
        "",
        "def rectangle_perimeter(dictionary):",
        "",
        "    radius = get_circle_variables(dictionary)",
        "",
        "    return 2 * math.pi * radius"
      ]
    },
    {
      "cell_type": "markdown",
      "metadata": {},
      "source": [
        "### The Error??\n",
        "Did you notice the error? Maybe, maybe not?! We copy paste, need to make several small changes, it's easy to make small mistakes. What went wrong? We missed spelled raidus in the get_circle_variables function. We put 'raidus', not 'radius'. This is corrected below. "
      ],
      "id": "3962f3e8"
    },
    {
      "cell_type": "code",
      "execution_count": null,
      "metadata": {},
      "outputs": [],
      "source": [
        "def if_contains(dictionary, value):",
        "    if value in dictionary:",
        "        return dictionary[value]",
        "    else:",
        "        raise Exception('Could not find ' + value + ' in dictionary')",
        "",
        "##### Retangle",
        "def get_rectangle_variables(dictionary):",
        "    return if_contains(dictionary, 'width'), if_contains(dictionary, 'height')",
        "",
        "def rectangle_area(dictionary):",
        "",
        "    width, height = get_rectangle_variables(dictionary)",
        "",
        "    return width * height",
        "",
        "def rectangle_perimeter(dictionary):",
        "",
        "    width, height = get_rectangle_variables(dictionary)",
        "",
        "    return 2 * (width + height)",
        "",
        "",
        "##### Circle",
        "def get_circle_variables(dictionary):",
        "    return if_contains(dictionary, 'radius')",
        "",
        "def circle_area(dictionary):",
        "",
        "    radius = get_circle_variables(dictionary)",
        "",
        "    return math.pi * (radius**2)",
        "",
        "def rectangle_perimeter(dictionary):",
        "",
        "    radius = get_circle_variables(dictionary)",
        "",
        "    return 2 * math.pi * radius"
      ],
      "id": "4917b537"
    },
    {
      "cell_type": "markdown",
      "id": "28f67cb5",
      "metadata": {},
      "source": [
        "### And More???\n",
        "You then need to repeat for a trapezoid, so you..... ugh, redo everything again.... since it needs 5ish variables, can't even repurpose the rectangle's functions. Well, 3 for area, 4 for perimeter, with 2 overlapping...\n"
      ]
    },
    {
      "cell_type": "code",
      "execution_count": null,
      "id": "4358d0fe",
      "metadata": {},
      "outputs": [],
      "source": [
        "def if_contains(dictionary, value):",
        "    if value in dictionary:",
        "        return dictionary[value]",
        "    else:",
        "        raise Exception('Could not find ' + value + ' in dictionary')",
        "",
        "##### Retangle",
        "def get_rectangle_variables(dictionary):",
        "    return if_contains(dictionary, 'width'), if_contains(dictionary, 'height')",
        "",
        "def rectangle_area(dictionary):",
        "",
        "    width, height = get_rectangle_variables(dictionary)",
        "",
        "    return width * height",
        "",
        "def rectangle_perimeter(dictionary):",
        "",
        "    width, height = get_rectangle_variables(dictionary)",
        "",
        "    return 2 * (width + height)",
        "",
        "",
        "##### Circle",
        "def get_circle_variables(dictionary):",
        "    return if_contains(dictionary, 'radius')",
        "",
        "def circle_area(dictionary):",
        "",
        "    radius = get_circle_variables(dictionary)",
        "",
        "    return math.pi * (radius**2)",
        "",
        "def rectangle_perimeter(dictionary):",
        "",
        "    radius = get_circle_variables(dictionary)",
        "",
        "    return 2 * math.pi * radius",
        "",
        "",
        "##### Trapezoid",
        "def get_trapezoid_variables(dictionary):",
        "    return if_contains(dictionary, 'base1'), if_contains(dictionary, 'base2'), if_contains(dictionary, 'height'),  if_contains(dictionary, 'diagnol1'),  if_contains(dictionary, 'diagnol2')",
        "",
        "def trapezoid_area(dictionary):",
        "",
        "    base1, base2, height, diagnol1, diagnol2 = get_circle_variables(dictionary) # won't use diagnol1 or diagnol2",
        "",
        "    return ((base + base2) / 2) * height",
        "",
        "def trapezoid_perimeter(dictionary):",
        "",
        "    base1, base2, height, diagnol1, diagnol2 = get_circle_variables(dictionary) # won't use height",
        "",
        "    return base1 + base2 + diagnol1 + diagnol2"
      ]
    },
    {
      "cell_type": "markdown",
      "id": "66d02c5e",
      "metadata": {},
      "source": [
        "### Automate It\n",
        "Okay, looking at the code above, it's hard to say writing things into functions really did the trick to make it simplier, easier to understand, more extensible, etc. Let's make an automation that'll just write the code to pull variables from the dictionary. It'll even use our if_contains function!\n",
        "\n",
        "*Check out the code in Vars.cs to see the automation code behind the scenes.*"
      ]
    },
    {
      "cell_type": "code",
      "execution_count": null,
      "id": "64dc44f3",
      "metadata": {},
      "outputs": [],
      "source": [
        "def if_contains(dictionary, value):",
        "    if value in dictionary:",
        "        return dictionary[value]",
        "    else:",
        "        raise Exception('Could not find ' + value + ' in dictionary')",
        "",
        "##### Retangle",
        "def rectangle_area(dictionary):",
        "    #[Vars width height]",
        "",
        "    return width * height",
        "",
        "def rectangle_perimeter(dictionary):",
        "    #[Vars width height]",
        "",
        "    return 2 * (width + height)",
        "",
        "",
        "##### Circle",
        "def circle_area(dictionary):",
        "    #[Vars radius]",
        "",
        "    return math.pi * (radius**2)",
        "",
        "def rectangle_perimeter(dictionary):",
        "    #[Vars radius]",
        "",
        "    return 2 * math.pi * radius",
        "",
        "",
        "##### Trapezoid",
        "def trapezoid_area(dictionary):",
        "    #[Vars base1 base2 height]",
        "",
        "    return ((base1 + base2) / 2) * height",
        "",
        "def trapezoid_perimeter(dictionary):",
        "    #[Vars base1 base2 diagnol1 diagnol2]",
        "",
        "    return base1 + base2 + diagnol1 + diagnol2"
      ]
    },
    {
      "cell_type": "markdown",
      "id": "63575c0c",
      "metadata": {},
      "source": [
        "### Why It Matters\n",
        "This is a simple example, these issue get compounded when you start having multiple variable being needing to be sent to functions, more functions that are similar, etc. Often, the pattern we follow to set variables, check type, check bounds, etc. is very standard and simple to understand, but not easy to maintin if copied and pasted. Automations make such patterns very easy to reproduce and quickly implement boilerplate, essential code. "
      ]
    },
    {
      "cell_type": "code",
      "execution_count": null,
      "id": "3687ab5f",
      "metadata": {},
      "outputs": [],
      "source": [
        "",
        "",
        "",
        ""
      ]
    }
  ],
  "metadata": {
    "kernelspec": {
      "display_name": "Python 3",
      "language": "python",
      "name": "python3"
    },
    "language_info": {
      "codemirror_mode": {
        "name": "ipython",
        "version": 3
      },
      "file_extension": ".py",
      "mimetype": "text/x-python",
      "name": "python",
      "nbconvert_exporter": "python",
      "pygments_lexer": "ipython3",
      "version": "3.10.8"
    },
    "orig_nbformat": 4
  },
  "nbformat": 4,
  "nbformat_minor": 5
}