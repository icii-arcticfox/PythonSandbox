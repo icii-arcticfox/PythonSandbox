{
  "cells": [
    {
      "cell_type": "code",
      "execution_count": null,
      "id": "68f69423",
      "metadata": {},
      "outputs": [],
      "source": [
        "# Leave for imports"
      ]
    },
    {
      "cell_type": "markdown",
      "id": "76da3b5c",
      "metadata": {},
      "source": [
        "<span style=\"color:red\">**IMPORTANT**</span>\n",
        "\n",
        "Run the following !pip3 cells to install scikit-plot and tensorflow which are needed for this sandbox. Run these cells before automating, since automating will run the import cell above."
      ]
    },
    {
      "cell_type": "code",
      "execution_count": null,
      "id": "28b5cbac",
      "metadata": {},
      "outputs": [],
      "source": [
        "!pip3 install scikit-plot"
      ]
    },
    {
      "cell_type": "code",
      "execution_count": null,
      "id": "5fd3374c",
      "metadata": {},
      "outputs": [],
      "source": [
        "!pip3 install tensorflow"
      ]
    },
    {
      "cell_type": "markdown",
      "id": "7df6e449",
      "metadata": {},
      "source": [
        "Welcome to automating neural networks with Arctic Fox! Our focus of these automations is to make developing AI / ML solutions more akin to how we think about AI / ML - get data, build the network, train the model, and view the results. "
      ]
    },
    {
      "cell_type": "markdown",
      "id": "69706a23",
      "metadata": {},
      "source": [
        "# Automations with Nueral Network Classifier\n"
      ]
    },
    {
      "cell_type": "markdown",
      "id": "307d8ec9",
      "metadata": {},
      "source": [
        "We all love AI! Well, most of us... And it's amazing how much easier it is to develop AI solutions today than in the past. But, what we found, is that a lot of times when we take on a new project, try to recycle an old notebook, etc. there's always more edits / refactoring than we thought. So, we figured it would be easier if a lot of it was automated!\n",
        "\n",
        "To do this, we created 4 automations - Data, NeuralNetwork (NN), Train, and Visualize. We placed them each below, with some description, and pre-populated some parameters that worked for us. Play around with it and enjoy!"
      ]
    },
    {
      "cell_type": "markdown",
      "id": "1e124b71",
      "metadata": {},
      "source": [
        "##### Note\n",
        "The examples in codespace use simple csvs and neural networks due to processing power constraints. Automations exist for convolutional neural networks as well. However, for non-gpu environments, training is too slow to show meaningful examples. "
      ]
    },
    {
      "cell_type": "markdown",
      "id": "3fb546ac",
      "metadata": {},
      "source": [
        "### Data, Load CSV"
      ]
    },
    {
      "cell_type": "markdown",
      "id": "4903c227",
      "metadata": {},
      "source": [
        "The first automation will load in the data. In this case, our source is a csv. Other times, the source could be a library in an imported source, a collection of images, etc. Additionally, we can tell it what to predict - we could tell it the name of a column or the column index. Our example uses the popular wine dataset, and since there are no headers, we give it the column index. \n",
        "\n",
        "Additionally, by providing column index 0, Arctic Fox will look at the data and determine that the desired model is a classifier. "
      ]
    },
    {
      "cell_type": "code",
      "execution_count": null,
      "id": "43279c7e",
      "metadata": {},
      "outputs": [],
      "source": [
        "#[Data wine.csv --predict 0]"
      ]
    },
    {
      "cell_type": "markdown",
      "id": "27183f87",
      "metadata": {},
      "source": [
        "### Build Neural Network"
      ]
    },
    {
      "cell_type": "markdown",
      "id": "1b4d74df",
      "metadata": {},
      "source": [
        "Next, we use the NeuralNetwork automation, or NN for short. We have provided some example parameters, but if you didn't have these, you could always just use #[NN --help] to see the available options. The start and end specify the number of nodes in the start and end (second to last) layers. DenseLayers specifies how many layers should be in the model. \n",
        "\n",
        "Play around with the parameters to see how the model changes.  "
      ]
    },
    {
      "cell_type": "code",
      "execution_count": null,
      "id": "2323d442",
      "metadata": {},
      "outputs": [],
      "source": [
        "#[NN --denseLayers 20 --denseStart 96 --denseEnd 32 --dropOutRatio 1:5]"
      ]
    },
    {
      "cell_type": "markdown",
      "id": "2f5da953",
      "metadata": {},
      "source": [
        "### Train Model\n"
      ]
    },
    {
      "cell_type": "markdown",
      "id": "299648e7",
      "metadata": {},
      "source": [
        "Pretty much the only thing to specify when training is how long to train, or the number of epochs. You can always re-run the training, or fit, cell to do more training. Train, retrain, keep training, that's all pretty normal. "
      ]
    },
    {
      "cell_type": "code",
      "execution_count": null,
      "id": "7b1c6f5b",
      "metadata": {},
      "outputs": [],
      "source": [
        "#[Train --epochs 300]"
      ]
    },
    {
      "cell_type": "markdown",
      "id": "6433913d",
      "metadata": {},
      "source": [
        "### Visualize"
      ]
    },
    {
      "cell_type": "markdown",
      "id": "712c41d6",
      "metadata": {},
      "source": [
        "Finally, it's always import to visualize a model's performance. Seeing the training loss and accuracy evolve over time let's you get a feel fore how the model trained. We think for a classifier that the confusion matrix is one of the most telling visuals. "
      ]
    },
    {
      "cell_type": "code",
      "execution_count": null,
      "id": "67f3d008",
      "metadata": {},
      "outputs": [],
      "source": [
        "#[Visualize --loss --accuracy --confusionMatrix]"
      ]
    },
    {
      "cell_type": "markdown",
      "id": "468d5296",
      "metadata": {},
      "source": [
        "That's a wrap on the basics of automating neural networks. The next sandbox makes a small change, and instantly your notebook is setup for regression. Check it out!"
      ]
    },
    {
      "cell_type": "code",
      "execution_count": null,
      "id": "2c918d6d",
      "metadata": {},
      "outputs": [],
      "source": [
        "\n"
      ]
    }
  ],
  "metadata": {
    "kernelspec": {
      "display_name": "Python 3",
      "language": "python",
      "name": "python3"
    },
    "language_info": {
      "codemirror_mode": {
        "name": "ipython",
        "version": 3
      },
      "file_extension": ".py",
      "mimetype": "text/x-python",
      "name": "python",
      "nbconvert_exporter": "python",
      "pygments_lexer": "ipython3",
      "version": "3.10.8"
    },
    "orig_nbformat": 4
  },
  "nbformat": 4,
  "nbformat_minor": 5
}
