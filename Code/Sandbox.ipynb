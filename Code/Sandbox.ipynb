{
  "cells": [
    {
      "cell_type": "code",
      "execution_count": 18,
      "id": "68f69423",
      "metadata": {},
      "outputs": [
        {
          "ename": "ModuleNotFoundError",
          "evalue": "No module named 'boto3'",
          "output_type": "error",
          "traceback": [
            "\u001b[0;31m---------------------------------------------------------------------------\u001b[0m",
            "\u001b[0;31mModuleNotFoundError\u001b[0m                       Traceback (most recent call last)",
            "Cell \u001b[0;32mIn[18], line 4\u001b[0m\n\u001b[1;32m      2\u001b[0m \u001b[39mimport\u001b[39;00m \u001b[39mos\u001b[39;00m\n\u001b[1;32m      3\u001b[0m \u001b[39m#<1#(33080024)~%(-208587713) #>1#(65545957):(65545957)\u001b[39;00m\n\u001b[0;32m----> 4\u001b[0m \u001b[39mimport\u001b[39;00m \u001b[39mboto3\u001b[39;00m\n\u001b[1;32m      5\u001b[0m \u001b[39m#<1#(65545957)~%(769109360)\u001b[39;00m\n\u001b[1;32m      6\u001b[0m \u001b[39m# Leave for imports\u001b[39;00m\n",
            "\u001b[0;31mModuleNotFoundError\u001b[0m: No module named 'boto3'"
          ]
        }
      ],
      "source": [
        "#>1#(33080024):(33080024)\n",
        "import os\n",
        "#<1#(33080024)~%(-208587713) #>1#(65545957):(65545957)\n",
        "import boto3\n",
        "#<1#(65545957)~%(769109360)\n",
        "# Leave for imports"
      ]
    },
    {
      "cell_type": "markdown",
      "id": "615f3e4c",
      "metadata": {},
      "source": [
        "Run the following !pip3 cells to install boto3 which is needed for this sandbox."
      ]
    },
    {
      "cell_type": "code",
      "execution_count": null,
      "id": "28b5cbac",
      "metadata": {},
      "outputs": [],
      "source": [
        "!pip3 install boto3"
      ]
    },
    {
      "cell_type": "markdown",
      "id": "7df6e449",
      "metadata": {},
      "source": [
        "The big take away here? When we script, its so much easier to through in an automation that'll do what we need rather that try to wire up libraries, search stack overflow, etc. "
      ]
    },
    {
      "cell_type": "markdown",
      "id": "69706a23",
      "metadata": {},
      "source": [
        "# Automations and Scripting\n"
      ]
    },
    {
      "cell_type": "markdown",
      "id": "287dc421",
      "metadata": {},
      "source": [
        "A common use of python, and other languages, is to write quick scripts. But, it doesn't long for quick scripts to become permenent, or, quick scripts to become lengthy scripts. Worst of all, a \"quick script\" can too easily become an integral part of a legacy software package. \n",
        "\n",
        "Automations are beneficial for scripting as well! Whether reducing common expressions or interfacing with APIs, automations can make it simpler. \n",
        "\n",
        "In this sandbox, we'll use managing AWS EC2 virtual machines as an example. What do automations let you focus on? What you want to - creating, connecting, listing, terminating, etc. "
      ]
    },
    {
      "cell_type": "markdown",
      "id": "522c2675",
      "metadata": {},
      "source": [
        "##### Note\n",
        "This sandbox does require an AWS account to truly experience. Please have your AWS keys ready, they will remain private (unless you publish them to a public repo... don't do that...)"
      ]
    },
    {
      "cell_type": "markdown",
      "id": "304ae6e2",
      "metadata": {},
      "source": [
        "### Setup"
      ]
    },
    {
      "cell_type": "markdown",
      "id": "7dc5c29b",
      "metadata": {},
      "source": [
        "First, we need to pass in our AWS keys. Typically, you would do this in a setup file, like Setup.py, but we've placed them here for ease. Clearly, the keys below are placeholders. Put in your AWS account keys to fully experience the sandbox. "
      ]
    },
    {
      "cell_type": "code",
      "execution_count": null,
      "id": "3f691ae0",
      "metadata": {},
      "outputs": [],
      "source": [
        "#[AWSAccessKey 0123456789abcdefghij]\n",
        "#[AWSSecretAccessKey 0123456789a/0123456/0123456789abcdefghij]"
      ]
    },
    {
      "cell_type": "markdown",
      "id": "502143f0",
      "metadata": {},
      "source": [
        "The next automation isn't essential, but we have it here for simplicity. If it was missing, the first AWS automation would create the client. "
      ]
    },
    {
      "cell_type": "code",
      "execution_count": null,
      "id": "68f2c074",
      "metadata": {},
      "outputs": [],
      "source": [
        "#[AWS.Client]#@65545957 #>1#(65545957):(65545957)\n",
        "ec2_client = boto3.client('ec2', region_name='us-west-2',\n",
        "    aws_access_key_id='0123456789abcdefghij' ,\n",
        "    aws_secret_access_key='0123456789a/0123456/0123456789abcdefghij')\n",
        "#<1#(65545957)~%(-38374046)"
      ]
    },
    {
      "cell_type": "markdown",
      "id": "216bb90d",
      "metadata": {},
      "source": [
        "### Create Instance\n",
        "First, let's create an AWS VM instance. Now, typically this requires jump through some hoops, but we'll automate the code to jump through those hoops for you. The automation will create code to save the .pem key and manage it for you. It will also save information within Arctic Fox concerning the instance's operating system. Please be aware, more code may be generated than you'd expect. \n",
        "\n",
        "Creating an instance does require a name, we pass it in as the first item. "
      ]
    },
    {
      "cell_type": "code",
      "execution_count": null,
      "id": "37b53f1d",
      "metadata": {},
      "outputs": [],
      "source": [
        "#[AWS.Instance codespaceExample --create]#@15180284 #>1#(15180284):(15180284)\n",
        "#***First, create a key for the new instances\n",
        "#[AWS.Keys --list --names]#@65000917\n",
        "existingKeys : any #<1#(15180284)~%(-916180027) #>2#(65000917,15180284):(65000917)\n",
        "existingKeys = ec2_client.describe_key_pairs()\n",
        "existingKeys = [key['KeyName'] for key in existingKeys['KeyPairs']]\n",
        "#<2#(65000917)~%(73998777) #>1#(15180284):(15180284)\n",
        "if 'codespaceExampleKey' not in existingKeys:\n",
        "    #[AWS.Keys --create --name codespaceExampleKey]#@39183305 #<1#(15180284)~%(-1064226032)\n",
        "#>2#(39183305,15180284):(39183305)\n",
        "    key_pair = ec2_client.create_key_pair(KeyName=\"codespaceExampleKey\")\n",
        "    private_key = key_pair[\"KeyMaterial\"]\n",
        "\n",
        "    # write private key to file with 400 permissions\n",
        "    with os.fdopen(os.open(\"codespaceExampleKey.pem\", os.O_WRONLY | os.O_CREAT, 0o400), \"w+\") as handle:\n",
        "        handle.write(private_key)\n",
        "        print('Key named: codespaceExampleKey, saved to file codespaceExampleKey.pem')\n",
        "    with os.fdopen(os.open(\"/home/codespace/.icii/arcticfox/codespaceExampleKey.pem\", os.O_WRONLY | os.O_CREAT, 0o400), \"w+\") as handle:\n",
        "        handle.write(private_key)\n",
        "        print('Also saved to file /home/codespace/.icii/arcticfox/codespaceExampleKey.pem')\n",
        "#<2#(39183305)~%(-943315609) #>1#(15180284):(15180284)\n",
        "else:\n",
        "    print('Key named: codespaceExampleKey, already exists')\n",
        "#<2#(17386517,15180284)~%(-921090987)"
      ]
    },
    {
      "cell_type": "code",
      "execution_count": null,
      "id": "affe2ed1",
      "metadata": {},
      "outputs": [],
      "source": [
        "#>2#(17386517,15180284):(17386517)\n",
        "#***Generated by: [AWS.Instance --list --names --states]\n",
        "def getAllInstanceNamesAndStates():\n",
        "    instanceNames = []\n",
        "    instanceStates = []\n",
        "    #[AWS.SearchInstancesFor]#@85920194 #<2#(15180284)~%(-2120946417)\n",
        "#>3#(85920194,17386517,15180284):(85920194)\n",
        "    allInstances = ec2_client.describe_instances()\n",
        "    for reservation in allInstances['Reservations']:\n",
        "        for possibleInstance in reservation['Instances']:\n",
        "#<3#(85920194)~%(1421253349) #>2#(17386517,15180284):(17386517)\n",
        "            for tag in possibleInstance['Tags']:\n",
        "                    if tag['Key'] == 'Name':\n",
        "                        instanceNames.append(tag['Value'])\n",
        "                        instanceStates.append((tag['Value'], possibleInstance['State']['Name']))\n",
        "    return (instanceNames, instanceStates)\n",
        "print('Function: getAllInstanceNamesAndStates, compiled')\n",
        "#<2#(17386517,15180284)~%(-183528672)"
      ]
    },
    {
      "cell_type": "code",
      "execution_count": null,
      "id": "9187e8ce",
      "metadata": {},
      "outputs": [],
      "source": [
        "#>1#(15180284):(15180284)\n",
        "#***Generated by: [AWS.Instance codespaceExample --create]\n",
        "#[AWS.Instance --list --names --states]#@17386517\n",
        "existingInstanceTuple : any  #<1#(15180284)~%(-2036225202) #>2#(17386517,15180284):(17386517)\n",
        "existingInstanceTuple = getAllInstanceNamesAndStates()\n",
        "#<2#(17386517)~%(1243525709) #>1#(15180284):(15180284)\n",
        "existingInstanceNames = existingInstanceTuple[0]\n",
        "existingInstanceStates = existingInstanceTuple[1]\n",
        "\n",
        "if \"codespaceExample\" not in existingInstanceNames or [nameState for nameState in existingInstanceStates if nameState[0] == \"codespaceExample\"][0] == 'terminated':\n",
        "    #***Second, create the new instance(s)\n",
        "    instances = ec2_client.run_instances(\n",
        "        ImageId=\"ami-0c79a55dda52434da\",\n",
        "        MinCount=1,\n",
        "        MaxCount=1,\n",
        "        InstanceType='t4g.micro',\n",
        "        KeyName='codespaceExampleKey',\n",
        "        TagSpecifications=[\n",
        "            {\n",
        "                'ResourceType': 'instance',\n",
        "                'Tags': [\n",
        "                    {\n",
        "                        'Key': 'Name',\n",
        "                        'Value': 'codespaceExample'\n",
        "                    },\n",
        "                ]\n",
        "            },\n",
        "        ],\n",
        "    )\n",
        "\n",
        "    print('Instance: codespaceExample, created and starting up!')\n",
        "\n",
        "else:\n",
        "    print('The instance name: codespaceExample, is already used')\n",
        "#<1#(55166203,33080024)~%(834886808)"
      ]
    },
    {
      "cell_type": "code",
      "execution_count": null,
      "id": "08d464bb",
      "metadata": {},
      "outputs": [],
      "source": [
        "#>1#(55166203,33080024):(55166203,33080024)\n",
        "#***Generated by: [AWS.InstanceByName codespaceExample]\n",
        "def findInstanceByName(name: str):\n",
        "    #[AWS.SearchInstancesFor]#@64602593 #<2#(55166203,33080024)~%(-1447125068)\n",
        "#>3#(64602593,55166203,33080024):(64602593)\n",
        "    allInstances = ec2_client.describe_instances()\n",
        "    for reservation in allInstances['Reservations']:\n",
        "        for possibleInstance in reservation['Instances']:\n",
        "#<3#(64602593)~%(1421253349) #>2#(55166203,33080024):(55166203,33080024)\n",
        "            for tag in possibleInstance['Tags']:\n",
        "                if tag['Key'] == 'Name' and tag['Value'] == name:\n",
        "                    return possibleInstance\n",
        "#<2#(55166203,33080024)~%(-1031880091)"
      ]
    },
    {
      "cell_type": "markdown",
      "id": "5c6a4f6d",
      "metadata": {},
      "source": [
        "### Connect to the Instance\n",
        "\n",
        "Using the same AWS.Instance automation, let's pass in the item --connect. This time, the automation will generate code to connect to the named instance. Also, you don't have to find the .pem, format it correctly, find the ip address, or discern the correct username. No, automations do all that for you. "
      ]
    },
    {
      "cell_type": "code",
      "execution_count": null,
      "id": "20db2cf0",
      "metadata": {},
      "outputs": [],
      "source": [
        "#[AWS.Instance codespaceExample --connect]#@33080024 #>1#(33080024):(33080024)\n",
        "#[AWS.InstanceByName codespaceExample]#@55166203\n",
        "instance : any #<1#(33080024)~%(-1766556229) #>2#(55166203,33080024):(55166203)\n",
        "instance = findInstanceByName(\"codespaceExample\")\n",
        "#<2#(55166203)~%(30964080) #>1#(33080024):(33080024)\n",
        "connectCommand = \"ssh -i \\\"/home/codespace/.icii/arcticfox/\" + instance['KeyName'] + \".pem\\\" ubuntu@\" + instance['PublicDnsName']\n",
        "print(\"Using a codespace, can't launch a new window...\")\n",
        "print(\"Copy and paste the following command into an integrated terminal:\")\n",
        "print(connectCommand)\n",
        "#<1#(33080024)~%(-31368841)"
      ]
    },
    {
      "cell_type": "markdown",
      "id": "53b66a6f",
      "metadata": {},
      "source": [
        "### List Instances\n",
        "Other things we want to do when scripting is see what resources are in use. We added the ability to list instances so we could easily see what VMs were running. "
      ]
    },
    {
      "cell_type": "markdown",
      "id": "3eee0504",
      "metadata": {},
      "source": [
        "Just listing the instances gives a bit too much information to digest..."
      ]
    },
    {
      "cell_type": "code",
      "execution_count": null,
      "id": "4d080056",
      "metadata": {},
      "outputs": [],
      "source": [
        "#[AWS.Instance --list]#@14984901 #>1#(14984901):(14984901)\n",
        "allInstances = [reservation['Instances'] for reservation in ec2_client.describe_instances()['Reservations']]\n",
        "print(allInstances)\n",
        "#<1#(39115337)~%(-1292132353)"
      ]
    },
    {
      "cell_type": "code",
      "execution_count": null,
      "id": "45b7cf89",
      "metadata": {},
      "outputs": [],
      "source": [
        "#>1#(39115337):(39115337)\n",
        "#***Generated by: [AWS.Instance --list --name]\n",
        "def getAllInstanceNames():\n",
        "    instanceNames = []\n",
        "    #[AWS.SearchInstancesFor]#@95753329 #<1#(39115337)~%(-822305474)\n",
        "#>2#(95753329,39115337):(95753329)\n",
        "    allInstances = ec2_client.describe_instances()\n",
        "    for reservation in allInstances['Reservations']:\n",
        "        for possibleInstance in reservation['Instances']:\n",
        "#<2#(95753329)~%(1421253349) #>1#(39115337):(39115337)\n",
        "            for tag in possibleInstance['Tags']:\n",
        "                    if tag['Key'] == 'Name':\n",
        "                        instanceNames.append(tag['Value'])\n",
        "    return instanceNames\n",
        "print('Function: getAllInstanceNames, compiled')\n",
        "#<1#(39115337)~%(1217574603)"
      ]
    },
    {
      "cell_type": "markdown",
      "id": "28f1f084",
      "metadata": {},
      "source": [
        "So, we wanted to be able just to see the names of the instances"
      ]
    },
    {
      "cell_type": "code",
      "execution_count": null,
      "id": "35210ad5",
      "metadata": {},
      "outputs": [],
      "source": [
        "#[AWS.Instance --list --name]#@39115337 #>1#(39115337):(39115337)\n",
        "instanceNames_1 = getAllInstanceNames()\n",
        "print(instanceNames_1)\n",
        "#<1#(18839326)~%(193362666)"
      ]
    },
    {
      "cell_type": "code",
      "execution_count": null,
      "id": "641f3358",
      "metadata": {},
      "outputs": [],
      "source": [
        "#>1#(18839326):(18839326)\n",
        "#***Generated by: [AWS.Instance --list --state]\n",
        "def getAllInstanceStates():\n",
        "    instanceStates = []\n",
        "    #[AWS.SearchInstancesFor]#@85184533 #<1#(18839326)~%(2044346738)\n",
        "#>2#(85184533,18839326):(85184533)\n",
        "    allInstances = ec2_client.describe_instances()\n",
        "    for reservation in allInstances['Reservations']:\n",
        "        for possibleInstance in reservation['Instances']:\n",
        "#<2#(85184533)~%(1421253349) #>1#(18839326):(18839326)\n",
        "            for tag in possibleInstance['Tags']:\n",
        "                    if tag['Key'] == 'Name':\n",
        "                        instanceStates.append((tag['Value'], possibleInstance['State']['Name']))\n",
        "    return instanceStates\n",
        "print('Function: getAllInstanceStates, compiled')\n",
        "#<1#(18839326)~%(428971030)"
      ]
    },
    {
      "cell_type": "markdown",
      "id": "3e8671de",
      "metadata": {},
      "source": [
        "Or, the running state of those instances"
      ]
    },
    {
      "cell_type": "code",
      "execution_count": null,
      "id": "65984c03",
      "metadata": {},
      "outputs": [],
      "source": [
        "#[AWS.Instance --list --state]#@18839326 #>1#(18839326):(18839326)\n",
        "instanceStates_1 = getAllInstanceStates()\n",
        "print(instanceStates_1)\n",
        "#<1#(18839326)~%(-1575724888)"
      ]
    },
    {
      "cell_type": "markdown",
      "id": "1e59f636",
      "metadata": {},
      "source": [
        "### Terminate Instances\n",
        "Lastly, one of the biggest things is taking down instances you no longer need. Following the previous patterns, we wanted to do this easily"
      ]
    },
    {
      "cell_type": "code",
      "execution_count": null,
      "id": "36142d06",
      "metadata": {},
      "outputs": [],
      "source": [
        "#[AWS.Instance codespaceExample --terminate]#@20403255 #>1#(20403255):(20403255)\n",
        "#[AWS.InstanceByName codespaceExample]#@54672827\n",
        "instanceToterminate : any #<1#(20403255)~%(641053335) #>2#(54672827,20403255):(54672827)\n",
        "#***Function: findInstanceByName, already created in scope\n",
        "instanceToterminate = findInstanceByName(\"codespaceExample\")\n",
        "#<2#(54672827)~%(947861268) #>1#(20403255):(20403255)\n",
        "response = ec2_client.terminate_instances(InstanceIds=[instanceToterminate['InstanceId']])\n",
        "print(response)\n",
        "#<1#(20403255)~%(-1593160191)"
      ]
    },
    {
      "cell_type": "markdown",
      "id": "5fb1d0c4",
      "metadata": {},
      "source": [
        "And that's it! We made this example for AWS scripting, but hopefully you can see how automations are pertinent to a wide range of scripts. And now, check out the next sandbox!"
      ]
    },
    {
      "cell_type": "code",
      "execution_count": null,
      "id": "2c918d6d",
      "metadata": {},
      "outputs": [],
      "source": [
        "\n"
      ]
    }
  ],
  "metadata": {
    "kernelspec": {
      "display_name": "Python 3",
      "language": "python",
      "name": "python3"
    },
    "language_info": {
      "codemirror_mode": {
        "name": "ipython",
        "version": 3
      },
      "file_extension": ".py",
      "mimetype": "text/x-python",
      "name": "python",
      "nbconvert_exporter": "python",
      "pygments_lexer": "ipython3",
      "version": "3.10.8"
    },
    "orig_nbformat": 4
  },
  "nbformat": 4,
  "nbformat_minor": 5
}
