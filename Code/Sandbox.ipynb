{
  "cells": [
    {
      "cell_type": "code",
      "execution_count": null,
      "id": "68f69423",
      "metadata": {},
      "outputs": [],
      "source": [
        "# leave for imports"
      ]
    },
    {
      "cell_type": "markdown",
      "id": "6bf4861d",
      "metadata": {},
      "source": [
        "Welcome to Arctic Fox! What is it?\n",
        "\n",
        "Arcitc Fox is a code autoamtion tool for reusable, sharable, and adjustable automations! In the sandbox you can experiment with automations we've created and also create your own automations!"
      ]
    },
    {
      "cell_type": "markdown",
      "id": "3590343d",
      "metadata": {},
      "source": [
        "# What's an Automation?"
      ]
    },
    {
      "cell_type": "markdown",
      "id": "17ed380f",
      "metadata": {},
      "source": [
        "As with all software development we'll start with a Hello World example! You can see the HelloWorld automation below.\n",
        "\n",
        "Run Arctic Fox to see the HelloWorld automation produce code. Click the Arctic Fox icon on the left and press Automate in the Arctic Fox pane."
      ]
    },
    {
      "cell_type": "code",
      "execution_count": null,
      "id": "10407fdf",
      "metadata": {},
      "outputs": [],
      "source": [
        "#[HelloWorld]"
      ]
    },
    {
      "cell_type": "markdown",
      "id": "7256b391",
      "metadata": {},
      "source": [
        "What about sending parameters into an automation? Parameters can be passed in through position or named parameters. Change \"YourName\" below to your name. The two below are identical."
      ]
    },
    {
      "cell_type": "code",
      "execution_count": null,
      "id": "5321ea9e",
      "metadata": {},
      "outputs": [],
      "source": [
        "#[HelloWorld YourName]\n",
        "\n",
        "#[HelloWorld --name YourName]"
      ]
    },
    {
      "cell_type": "markdown",
      "id": "6643b0c4",
      "metadata": {},
      "source": [
        "And lastly, for the intro, you can easily removed automated code using the scrub button. In the Arctic Fox pane, click Scrub!\n",
        "\n",
        "And Boom! The automated code has vanished! Move on to the next step to keep learning about Arctic Fox!"
      ]
    },
    {
      "cell_type": "markdown",
      "id": "1e07fddf",
      "metadata": {},
      "source": [
        "# How is an Automation in Code?"
      ]
    },
    {
      "cell_type": "markdown",
      "id": "4296e9db",
      "metadata": {},
      "source": [
        "Automations are placed in a comments so it's presence doesn't impact your code base! We also give it a little formatting. The automation is enclosed in light gray brackets and the autoamtion name is bolded. The HelloWorld automation is equal to the following text:\n",
        "\n",
        "#\\[HelloWorld\\]\n",
        "\n",
        "#\\[HelloWorld YourName\\]\n",
        "\n",
        "#\\[HelloWorld --name YourName\\]"
      ]
    },
    {
      "cell_type": "markdown",
      "id": "22f0df9c",
      "metadata": {},
      "source": [
        "### Continue to the next step to move past Hello World!"
      ]
    },
    {
      "cell_type": "code",
      "execution_count": null,
      "id": "312ca068",
      "metadata": {},
      "outputs": [],
      "source": [
        "\n"
      ]
    }
  ],
  "metadata": {
    "kernelspec": {
      "display_name": "Python 3",
      "language": "python",
      "name": "python3"
    },
    "language_info": {
      "codemirror_mode": {
        "name": "ipython",
        "version": 3
      },
      "file_extension": ".py",
      "mimetype": "text/x-python",
      "name": "python",
      "nbconvert_exporter": "python",
      "pygments_lexer": "ipython3",
      "version": "3.10.8"
    },
    "orig_nbformat": 4
  },
  "nbformat": 4,
  "nbformat_minor": 5
}
