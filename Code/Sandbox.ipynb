{
  "cells": [
    {
      "cell_type": "code",
      "execution_count": null,
      "id": "68f69423",
      "metadata": {},
      "outputs": [],
      "source": [
        "# Leave for imports"
      ]
    },
    {
      "cell_type": "markdown",
      "id": "7df6e449",
      "metadata": {},
      "source": [
        "Alright, continuing on! Automations can be big and small. Some automations generate large amounts of code while other automations are shorthands for common bits of code. Let's take a look at some small automations."
      ]
    },
    {
      "cell_type": "markdown",
      "id": "69706a23",
      "metadata": {},
      "source": [
        "## Small Automations - Read and Write"
      ]
    },
    {
      "cell_type": "markdown",
      "id": "287dc421",
      "metadata": {},
      "source": [
        "Let's use a common operation, such as file input and output (IO). Reading files and writing files should be easy, and for the most part, it is. The annoyance is remembering the difference between reading and writing different types of files such as text, csv, images, etc.\n",
        "\n",
        "In this sandbox, we'll use the same Read and Write automations with different file types. This is done to show that automations, even small ones, make writing code simpler and the flexibility of automations.\n",
        "\n",
        "<br>"
      ]
    },
    {
      "cell_type": "markdown",
      "id": "3db911c7",
      "metadata": {},
      "source": [
        "### Text Files"
      ]
    },
    {
      "cell_type": "markdown",
      "id": "20770ce4",
      "metadata": {},
      "source": [
        "First, let's read and write text files. We'll read an email template, replace \"\\<NAME\\>\" with a person's name, then write each email to its own file. "
      ]
    },
    {
      "cell_type": "markdown",
      "id": "4d2277a4",
      "metadata": {},
      "source": [
        "First, let's use the Read automation by itself to read the text file and display it."
      ]
    },
    {
      "cell_type": "code",
      "execution_count": null,
      "id": "2fe46ac5",
      "metadata": {},
      "outputs": [],
      "source": [
        "#[Read EmailTemplate.txt]"
      ]
    },
    {
      "cell_type": "markdown",
      "id": "36162238",
      "metadata": {},
      "source": [
        "Next, we'll use the Read automation on the right hand side of an equation to read the file content into a variable. After this, let's perform the name subsitution. And then, use the Write automation to write the new email into a file for that person. "
      ]
    },
    {
      "cell_type": "code",
      "execution_count": null,
      "id": "1880922b",
      "metadata": {},
      "outputs": [],
      "source": [
        "",
        "emailMessage = #[Read EmailTemplate.txt]",
        "",
        "names = [\"Sofia\", \"Michael\", \"Vijay\", \"Akira\"]",
        "for name in names:",
        "    edittedEmail = emailMessage.replace('<NAME>', name)",
        "",
        "    #[Write edittedEmail f\"NewEmails/Email{name}.txt\"]"
      ]
    },
    {
      "cell_type": "markdown",
      "id": "605e96c8",
      "metadata": {},
      "source": [
        "Last, let's read and display one of the resulting emails, say Sofia's, to see the result of our processing. "
      ]
    },
    {
      "cell_type": "code",
      "execution_count": null,
      "id": "2764270f",
      "metadata": {},
      "outputs": [],
      "source": [
        "#[Read NewEmails/EmailSofia.txt]"
      ]
    },
    {
      "cell_type": "markdown",
      "id": "7fef13ba",
      "metadata": {},
      "source": [
        "Why does such a small automation matter? Well, if you're like us, you may not be doing file IO everyday, but you know you want to write a value into a file. So, each time it's been a while, you search Google for \"python write to file\", go to the stack overflow link, and copy and paste the code given. With simple automations that capture intent, it's much easier to get what you want without breaking your development flow\n",
        "\n",
        "<br>"
      ]
    },
    {
      "cell_type": "markdown",
      "id": "545122dc",
      "metadata": {},
      "source": [
        "### CSVs"
      ]
    },
    {
      "cell_type": "markdown",
      "id": "63f86ce3",
      "metadata": {},
      "source": [
        "Okay, so you might be thinking, that's nifty, what else? This time, we'll use the same Read and Write automations for a csv file. The automations will know it's a csv and use Pandas. "
      ]
    },
    {
      "cell_type": "markdown",
      "id": "65ee7535",
      "metadata": {},
      "source": [
        "Let's use the Read autmation to read and display CsvData.csv."
      ]
    },
    {
      "cell_type": "code",
      "execution_count": null,
      "id": "21babe21",
      "metadata": {},
      "outputs": [],
      "source": [
        "#[Read CsvData.csv]"
      ]
    },
    {
      "cell_type": "markdown",
      "id": "11924055",
      "metadata": {},
      "source": [
        "Similar to the previous, let's now read the csv into a variable, process, and write out. We'll center and normalize each column. And then, write the result to CsvData.Normalized.csv. "
      ]
    },
    {
      "cell_type": "code",
      "execution_count": null,
      "id": "14452541",
      "metadata": {},
      "outputs": [],
      "source": [
        "csvData = #[Read CsvData.csv]",
        "",
        "for column in csvData:",
        "    #[Normalize csvData column] # We couldn't help using an automation to normalize each column#@25499553",
        "",
        "#[Write csvData CsvData.Normalized.csv]"
      ]
    },
    {
      "cell_type": "markdown",
      "id": "5584d003",
      "metadata": {},
      "source": [
        "And again, let's read and dispaly the result. Notice how the code from the Read and Write automations is different from the previous example, yet our use is very similar. "
      ]
    },
    {
      "cell_type": "code",
      "execution_count": null,
      "id": "44795bb9",
      "metadata": {},
      "outputs": [],
      "source": [
        "#[Read CsvData.Normalized.csv]"
      ]
    },
    {
      "cell_type": "markdown",
      "id": "7557d01a",
      "metadata": {},
      "source": [
        "<br>"
      ]
    },
    {
      "cell_type": "markdown",
      "id": "58d89579",
      "metadata": {},
      "source": [
        "### Images"
      ]
    },
    {
      "cell_type": "markdown",
      "id": "7e945b51",
      "metadata": {},
      "source": [
        "Alright, one last example, this with an image! We'll read the image file, darken it just a bit, and save it to a file. All following the same pattern as before. "
      ]
    },
    {
      "cell_type": "markdown",
      "id": "73e7f6f1",
      "metadata": {},
      "source": [
        "First, let's use the Read automation by itself to read the image and view it. We'll use a picture of a Rhodesian Ridgeback puppy dog!"
      ]
    },
    {
      "cell_type": "code",
      "execution_count": null,
      "id": "3f47f23c",
      "metadata": {},
      "outputs": [],
      "source": [
        "#[Read RhodesianRidgeback.png]"
      ]
    },
    {
      "cell_type": "markdown",
      "id": "6cccc0d3",
      "metadata": {},
      "source": [
        "Then, we'll read the image into a variable, dogImage. Darken it by multiplying by 0.7. And then write the result to RhodesianRidgeback.Editted.png. "
      ]
    },
    {
      "cell_type": "code",
      "execution_count": null,
      "id": "44cb53a5",
      "metadata": {},
      "outputs": [],
      "source": [
        "dogImage = #[Read RhodesianRidgeback.png]",
        "dogImage = (dogImage * .7).round().astype(\"uint8\")",
        "",
        "#[Write dogImage RhodesianRidgeback.Editted.png]"
      ]
    },
    {
      "cell_type": "markdown",
      "id": "6aa2d407",
      "metadata": {},
      "source": [
        "And similarly, let's read and view the result! Again, take notice of how the automated code is different while the use of automations remained the same. "
      ]
    },
    {
      "cell_type": "code",
      "execution_count": null,
      "id": "481a9d40",
      "metadata": {},
      "outputs": [],
      "source": [
        "#[Read RhodesianRidgeback.Editted.png]"
      ]
    },
    {
      "cell_type": "code",
      "execution_count": null,
      "id": "26be8b06",
      "metadata": {},
      "outputs": [],
      "source": [
        "",
        "",
        ""
      ]
    }
  ],
  "metadata": {
    "kernelspec": {
      "display_name": "Python 3",
      "language": "python",
      "name": "python3"
    },
    "language_info": {
      "codemirror_mode": {
        "name": "ipython",
        "version": 3
      },
      "file_extension": ".py",
      "mimetype": "text/x-python",
      "name": "python",
      "nbconvert_exporter": "python",
      "pygments_lexer": "ipython3",
      "version": "3.10.8"
    },
    "orig_nbformat": 4
  },
  "nbformat": 4,
  "nbformat_minor": 5
}