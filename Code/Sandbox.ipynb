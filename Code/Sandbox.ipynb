{
  "cells": [
    {
      "cell_type": "code",
      "execution_count": null,
      "id": "68f69423",
      "metadata": {},
      "outputs": [],
      "source": [
        "# Leave for imports"
      ]
    },
    {
      "cell_type": "markdown",
      "id": "615f3e4c",
      "metadata": {},
      "source": [
        "Run the following !pip3 cells to install boto3 which is needed for this sandbox."
      ]
    },
    {
      "cell_type": "code",
      "execution_count": null,
      "id": "28b5cbac",
      "metadata": {},
      "outputs": [],
      "source": [
        "!pip3 install boto3"
      ]
    },
    {
      "cell_type": "markdown",
      "id": "7df6e449",
      "metadata": {},
      "source": [
        "The big take away here? When we script, its so much easier to through in an automation that'll do what we need rather that try to wire up libraries, search stack overflow, etc. "
      ]
    },
    {
      "cell_type": "markdown",
      "id": "69706a23",
      "metadata": {},
      "source": [
        "# Automations and Scripting\n"
      ]
    },
    {
      "cell_type": "markdown",
      "id": "287dc421",
      "metadata": {},
      "source": [
        "A common use of python, and other languages, is to write quick scripts. But, it doesn't long for quick scripts to become permenent, or, quick scripts to become lengthy scripts. Worst of all, a \"quick script\" can too easily become an integral part of a legacy software package. \n",
        "\n",
        "Automations are beneficial for scripting as well! Whether reducing common expressions or interfacing with APIs, automations can make it simpler. \n",
        "\n",
        "In this sandbox, we'll use managing AWS EC2 virtual machines as an example. What do automations let you focus on? What you want to - creating, connecting, listing, terminating, etc. "
      ]
    },
    {
      "cell_type": "markdown",
      "id": "522c2675",
      "metadata": {},
      "source": [
        "##### Note\n",
        "This sandbox does require an AWS account to truly experience. Please have your AWS keys ready, they will remain private (unless you publish them to a public repo... don't do that...)"
      ]
    },
    {
      "cell_type": "markdown",
      "id": "304ae6e2",
      "metadata": {},
      "source": [
        "### Setup"
      ]
    },
    {
      "cell_type": "markdown",
      "id": "7dc5c29b",
      "metadata": {},
      "source": [
        "First, we need to pass in our AWS keys. Typically, you would do this in a setup file, like Setup.py, but we've placed them here for ease. Clearly, the keys below are placeholders. Put in your AWS account keys to fully experience the sandbox. "
      ]
    },
    {
      "cell_type": "code",
      "execution_count": null,
      "id": "3f691ae0",
      "metadata": {},
      "outputs": [],
      "source": [
        "#[AWSAccessKey 0123456789abcdefghij]\n",
        "#[AWSSecretAccessKey 0123456789a/0123456/0123456789abcdefghij]"
      ]
    },
    {
      "cell_type": "markdown",
      "id": "502143f0",
      "metadata": {},
      "source": [
        "The next automation isn't essential, but we have it here for simplicity. If it was missing, the first AWS automation would create the client. "
      ]
    },
    {
      "cell_type": "code",
      "execution_count": null,
      "id": "68f2c074",
      "metadata": {},
      "outputs": [],
      "source": [
        "#[AWS.Client]"
      ]
    },
    {
      "cell_type": "markdown",
      "id": "216bb90d",
      "metadata": {},
      "source": [
        "### Create Instance\n",
        "First, let's create an AWS VM instance. Now, typically this requires jump through some hoops, but we'll automate the code to jump through those hoops for you. The automation will create code to save the .pem key and manage it for you. It will also save information within Arctic Fox concerning the instance's operating system. Please be aware, more code may be generated than you'd expect. \n",
        "\n",
        "Creating an instance does require a name, we pass it in as the first item. "
      ]
    },
    {
      "cell_type": "code",
      "execution_count": null,
      "id": "37b53f1d",
      "metadata": {},
      "outputs": [],
      "source": [
        "#[AWS.Instance codespaceExample --create]"
      ]
    },
    {
      "cell_type": "markdown",
      "id": "5c6a4f6d",
      "metadata": {},
      "source": [
        "### Connect to the Instance\n",
        "\n",
        "Using the same AWS.Instance automation, let's pass in the item --connect. This time, the automation will generate code to connect to the named instance. Also, you don't have to find the .pem, format it correctly, find the ip address, or discern the correct username. No, automations do all that for you. "
      ]
    },
    {
      "cell_type": "code",
      "execution_count": null,
      "id": "20db2cf0",
      "metadata": {},
      "outputs": [],
      "source": [
        "#[AWS.Instance codespaceExample --connect]"
      ]
    },
    {
      "cell_type": "markdown",
      "id": "53b66a6f",
      "metadata": {},
      "source": [
        "### List Instances\n",
        "Other things we want to do when scripting is see what resources are in use. We added the ability to list instances so we could easily see what VMs were running. "
      ]
    },
    {
      "cell_type": "markdown",
      "id": "3eee0504",
      "metadata": {},
      "source": [
        "Just listing the instances gives a bit too much information to digest..."
      ]
    },
    {
      "cell_type": "code",
      "execution_count": null,
      "id": "4d080056",
      "metadata": {},
      "outputs": [],
      "source": [
        "#[AWS.Instance --list]"
      ]
    },
    {
      "cell_type": "markdown",
      "id": "28f1f084",
      "metadata": {},
      "source": [
        "So, we wanted to be able just to see the names of the instances"
      ]
    },
    {
      "cell_type": "code",
      "execution_count": null,
      "id": "35210ad5",
      "metadata": {},
      "outputs": [],
      "source": [
        "#[AWS.Instance --list --name]"
      ]
    },
    {
      "cell_type": "markdown",
      "id": "3e8671de",
      "metadata": {},
      "source": [
        "Or, the running state of those instances"
      ]
    },
    {
      "cell_type": "code",
      "execution_count": null,
      "id": "65984c03",
      "metadata": {},
      "outputs": [],
      "source": [
        "#[AWS.Instance --list --state]"
      ]
    },
    {
      "cell_type": "markdown",
      "id": "1e59f636",
      "metadata": {},
      "source": [
        "### Terminate Instances\n",
        "Lastly, one of the biggest things is taking down instances you no longer need. Following the previous patterns, we wanted to do this easily"
      ]
    },
    {
      "cell_type": "code",
      "execution_count": null,
      "id": "36142d06",
      "metadata": {},
      "outputs": [],
      "source": [
        "#[AWS.Instance codespaceExample --terminate]"
      ]
    },
    {
      "cell_type": "markdown",
      "id": "5fb1d0c4",
      "metadata": {},
      "source": [
        "And that's it! We made this example for AWS scripting, but hopefully you can see how automations are pertinent to a wide range of scripts. And now, check out the next sandbox!"
      ]
    },
    {
      "cell_type": "code",
      "execution_count": null,
      "id": "2c918d6d",
      "metadata": {},
      "outputs": [],
      "source": [
        "\n"
      ]
    }
  ],
  "metadata": {
    "kernelspec": {
      "display_name": "Python 3",
      "language": "python",
      "name": "python3"
    },
    "language_info": {
      "codemirror_mode": {
        "name": "ipython",
        "version": 3
      },
      "file_extension": ".py",
      "mimetype": "text/x-python",
      "name": "python",
      "nbconvert_exporter": "python",
      "pygments_lexer": "ipython3",
      "version": "3.10.8"
    },
    "orig_nbformat": 4
  },
  "nbformat": 4,
  "nbformat_minor": 5
}
